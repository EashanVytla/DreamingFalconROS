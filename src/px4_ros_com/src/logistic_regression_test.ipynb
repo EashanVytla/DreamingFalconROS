{
 "cells": [
  {
   "cell_type": "code",
   "execution_count": 7,
   "metadata": {},
   "outputs": [
    {
     "name": "stdout",
     "output_type": "stream",
     "text": [
      "X Train: tensor([[    0.42,     0.09,     0.48,     0.20,     0.00,    67.66,     0.68,     1.00,     0.94,     0.07,     0.11,\n",
      "             0.58],\n",
      "        [   36.17,    21.04,    11.91,    18.18,    23.36,    16.78,     0.90,     0.04,     1.56,     0.94,     0.84,\n",
      "             0.66],\n",
      "        [   45.51,    42.20,    26.25,    11.43,    13.79,    24.46,     2.59,     0.41,     2.79,     0.08,     0.34,\n",
      "             0.79],\n",
      "        [   46.10,    19.56,    42.73,    15.67,    13.05,     7.52,     2.79,     1.86,     1.49,     0.78,     0.99,\n",
      "             0.58],\n",
      "        [    6.44,    45.64,    36.17,    16.70,    11.74,     7.99,     0.66,     2.29,     1.07,     0.23,     0.50,\n",
      "             0.67],\n",
      "        [    0.02,    29.75,    46.84,    19.91,    17.90,     2.55,     0.44,     2.82,     2.91,     0.41,     0.23,\n",
      "             0.70],\n",
      "        [    0.10,     0.42,     0.89,     0.91,     0.73,    96.36,     0.15,     0.43,     0.03,     0.97,     0.04,\n",
      "             0.05],\n",
      "        [    0.87,     0.05,     0.71,     0.69,     0.16,    82.55,     0.47,     0.95,     0.86,     0.88,     0.91,\n",
      "             0.16],\n",
      "        [  148.07,     0.23,     0.24,     0.15,     0.83,     0.05,     0.45,     0.97,     0.64,     0.70,     0.78,\n",
      "             0.09],\n",
      "        [    0.81,     0.28,     0.93,     0.11,     0.91,     0.06,     0.70,     0.93,    11.28,     0.42,     0.82,\n",
      "             0.12]])\n"
     ]
    }
   ],
   "source": [
    "import torch\n",
    "\n",
    "device = \"cpu\"\n",
    "\n",
    "pos_threshold = 100.0  # Max position deviation in meters\n",
    "vel_threshold = 50.0   # Max velocity in m/s\n",
    "att_threshold = 6.0   # Max attitude (rad)\n",
    "ang_vel_threshold = 2.0  # Max angular velocity (rad/s)\n",
    "\n",
    "weights = torch.tensor([\n",
    "    pos_threshold, pos_threshold, pos_threshold,     # Position (xyz)\n",
    "    vel_threshold, vel_threshold, vel_threshold,        # Velocity (uvw)\n",
    "    att_threshold, att_threshold, att_threshold,        # Attitude (euler angles)\n",
    "    ang_vel_threshold, ang_vel_threshold, ang_vel_threshold         # Angular velocity\n",
    "], device=device)\n",
    "\n",
    "def generate_points(num_samples):\n",
    "    half_samples = num_samples // 2\n",
    "    safe_points = torch.rand((half_samples, 12), device=device) * weights.unsqueeze(0) * 0.5 # All below threshold\n",
    "    safe_labels = torch.ones((half_samples, 1), device=device)\n",
    "\n",
    "    unsafe_points = torch.rand((half_samples, 12), device=device)\n",
    "    for i in range(half_samples):\n",
    "        dim = torch.randint(0, 12, (1,)).item()\n",
    "        unsafe_points[i, dim] = weights[dim] * (1.2 + torch.rand(1).item())  # Ensure above threshold\n",
    "    unsafe_labels = torch.zeros((half_samples, 1), device=device)\n",
    "\n",
    "    x = torch.cat([safe_points, unsafe_points], dim=0)\n",
    "    y = torch.cat([safe_labels, unsafe_labels], dim=0)\n",
    "    indices = torch.randperm(num_samples)\n",
    "    x = x[indices]\n",
    "    y = y[indices]\n",
    "\n",
    "    return x, y\n",
    "\n",
    "torch.set_printoptions(precision=2, linewidth=120, sci_mode=False)\n",
    "x_train, y_train = generate_points(10)\n",
    "x_test, y_test = generate_points(3000)\n",
    "print(f\"X Train: {x_train}\")"
   ]
  },
  {
   "cell_type": "code",
   "execution_count": 3,
   "metadata": {},
   "outputs": [
    {
     "name": "stdout",
     "output_type": "stream",
     "text": [
      "done\n"
     ]
    }
   ],
   "source": [
    "def normalize_data(x, thresholds):\n",
    "    norm = torch.norm(thresholds)\n",
    "    norm_thresh = thresholds / norm\n",
    "    norm_x = x / norm\n",
    "\n",
    "    return norm_x * 2 * torch.pi, norm_thresh * 2 * torch.pi\n",
    "\n",
    "norm_x, norm_thresh = normalize_data(x_train, weights)\n",
    "print(\"done\")"
   ]
  },
  {
   "cell_type": "code",
   "execution_count": 9,
   "metadata": {},
   "outputs": [
    {
     "name": "stdout",
     "output_type": "stream",
     "text": [
      "Diff: tensor([[-99.58, -99.91, -99.52, -49.80, -50.00,  17.66,  -5.32,  -5.00,  -5.06,  -1.93,  -1.89,  -1.42],\n",
      "        [-63.83, -78.96, -88.09, -31.82, -26.64, -33.22,  -5.10,  -5.96,  -4.44,  -1.06,  -1.16,  -1.34],\n",
      "        [-54.49, -57.80, -73.75, -38.57, -36.21, -25.54,  -3.41,  -5.59,  -3.21,  -1.92,  -1.66,  -1.21],\n",
      "        [-53.90, -80.44, -57.27, -34.33, -36.95, -42.48,  -3.21,  -4.14,  -4.51,  -1.22,  -1.01,  -1.42],\n",
      "        [-93.56, -54.36, -63.83, -33.30, -38.26, -42.01,  -5.34,  -3.71,  -4.93,  -1.77,  -1.50,  -1.33],\n",
      "        [-99.98, -70.25, -53.16, -30.09, -32.10, -47.45,  -5.56,  -3.18,  -3.09,  -1.59,  -1.77,  -1.30],\n",
      "        [-99.90, -99.58, -99.11, -49.09, -49.27,  46.36,  -5.85,  -5.57,  -5.97,  -1.03,  -1.96,  -1.95],\n",
      "        [-99.13, -99.95, -99.29, -49.31, -49.84,  32.55,  -5.53,  -5.05,  -5.14,  -1.12,  -1.09,  -1.84],\n",
      "        [ 48.07, -99.77, -99.76, -49.85, -49.17, -49.95,  -5.55,  -5.03,  -5.36,  -1.30,  -1.22,  -1.91],\n",
      "        [-99.19, -99.72, -99.07, -49.89, -49.09, -49.94,  -5.30,  -5.07,   5.28,  -1.58,  -1.18,  -1.88]])\n",
      "Flag: tensor([[1.00],\n",
      "        [0.26],\n",
      "        [0.23],\n",
      "        [0.27],\n",
      "        [0.21],\n",
      "        [0.22],\n",
      "        [1.00],\n",
      "        [1.00],\n",
      "        [1.00],\n",
      "        [0.99]])\n"
     ]
    }
   ],
   "source": [
    "def diff_flag(x, thresholds, beta=10.0):\n",
    "    \"\"\"\n",
    "    x: tensor of shape (batch_size, num_features)\n",
    "    thresholds: tensor of shape (num_features,) with the threshold for each feature\n",
    "    beta: sharpness parameter; higher beta -> closer to hard max\n",
    "    \"\"\"\n",
    "    # Compute the difference between features and their thresholds\n",
    "    diff = x - thresholds  # shape: (batch_size, num_features)\n",
    "    print(f\"Diff: {diff}\")\n",
    "    \n",
    "    # Apply log-sum-exp along the features dimension as a smooth max\n",
    "    smooth_max = (1.0 / beta) * torch.log(torch.sum(torch.exp(beta * diff), dim=1, keepdim=True))\n",
    "    \n",
    "    # Use a sigmoid to get an output between 0 and 1\n",
    "    flag = torch.sigmoid(smooth_max)\n",
    "    return flag\n",
    "\n",
    "flag = diff_flag(x_train, weights)\n",
    "print(f\"Flag: {flag}\")"
   ]
  },
  {
   "cell_type": "code",
   "execution_count": null,
   "metadata": {},
   "outputs": [],
   "source": []
  }
 ],
 "metadata": {
  "kernelspec": {
   "display_name": "venv",
   "language": "python",
   "name": "python3"
  },
  "language_info": {
   "codemirror_mode": {
    "name": "ipython",
    "version": 3
   },
   "file_extension": ".py",
   "mimetype": "text/x-python",
   "name": "python",
   "nbconvert_exporter": "python",
   "pygments_lexer": "ipython3",
   "version": "3.10.12"
  }
 },
 "nbformat": 4,
 "nbformat_minor": 2
}
